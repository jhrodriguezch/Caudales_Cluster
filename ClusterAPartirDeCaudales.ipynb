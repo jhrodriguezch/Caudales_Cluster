{
 "cells": [
  {
   "cell_type": "code",
   "execution_count": 71,
   "id": "91ef555a",
   "metadata": {},
   "outputs": [],
   "source": [
    "import pandas as pd\n",
    "from ipywidgets import interact\n",
    "import sys\n",
    "from PIL import Image, ImageDraw, ImageFont\n",
    "import numpy as np"
   ]
  },
  {
   "cell_type": "code",
   "execution_count": 36,
   "id": "708265fb",
   "metadata": {},
   "outputs": [],
   "source": [
    "# READ FILE\n",
    "df = pd.read_csv(r'.\\RelacionCaudalesClusteres.csv')"
   ]
  },
  {
   "cell_type": "code",
   "execution_count": 87,
   "id": "58677af7",
   "metadata": {},
   "outputs": [],
   "source": [
    "def valids_for_col(df, col1, col2, val):\n",
    "    valids = (df[col1] < val) & (df[col2] > val)\n",
    "    res = df[valids].copy()\n",
    "    res.reset_index(drop=True, inplace=True)\n",
    "    if len(res) == 0:\n",
    "        sys.exit('Combinacion no valida!!!')\n",
    "    return res\n",
    "\n",
    "def numberfun(text, size=10):\n",
    "    # by: Dave Rove in https://stackoverflow.com/questions/9632995/how-to-easily-print-ascii-art-text\n",
    "    myfont = ImageFont.truetype(\"verdanab.ttf\", size)\n",
    "    size = myfont.getsize(text)\n",
    "    img = Image.new(\"1\",size,\"black\")\n",
    "    draw = ImageDraw.Draw(img)\n",
    "    draw.text((0, 0), text, \"white\", font=myfont)\n",
    "    pixels = np.array(img, dtype=np.uint8)\n",
    "    chars = np.array([' ','#'], dtype=\"U1\")[pixels]\n",
    "    strings = chars.view('U' + str(chars.shape[1])).flatten()\n",
    "    print( \"\\n\".join(strings))"
   ]
  },
  {
   "cell_type": "code",
   "execution_count": 88,
   "id": "2ccc13ab",
   "metadata": {},
   "outputs": [
    {
     "name": "stdout",
     "output_type": "stream",
     "text": [
      "                                     \n",
      "                                     \n",
      "                                     \n",
      "                                     \n",
      "  ###   #####    #####   ###     ### \n",
      " ##  #  ##  ##   ##     ##  #    ### \n",
      " ##     ##   ##  ##     ##      ## ##\n",
      "  ###   ##   ##  #####  ##      ## ##\n",
      "    ##  ##   ##  ##     ##      #####\n",
      " #  ##  ##  ##   ##     ##  #  ##   #\n",
      "  ###   #####    #####   ###   ##   #\n"
     ]
    }
   ],
   "source": [
    "numberfun('SDECA')"
   ]
  },
  {
   "cell_type": "markdown",
   "id": "fc08bd77",
   "metadata": {},
   "source": [
    "Seleccion del Cluster Adecuado"
   ]
  },
  {
   "cell_type": "code",
   "execution_count": 90,
   "id": "c3b3fd67",
   "metadata": {},
   "outputs": [
    {
     "data": {
      "application/vnd.jupyter.widget-view+json": {
       "model_id": "28d81f3321b04f39a0d00544e4053366",
       "version_major": 2,
       "version_minor": 0
      },
      "text/plain": [
       "interactive(children=(FloatSlider(value=1451.3233571428568, description='HidroItuango', max=2695.4057142857137…"
      ]
     },
     "metadata": {},
     "output_type": "display_data"
    }
   ],
   "source": [
    "@interact(HidroItuango=(df['Q - Descarga Hidroituango - min'].min() + 0.001, df['Q - Descarga Hidroituango - max'].max()))\n",
    "def q_hidro_ituango(HidroItuango):\n",
    "    test = valids_for_col(df,'Q - Descarga Hidroituango - min', 'Q - Descarga Hidroituango - max', HidroItuango)\n",
    "    \n",
    "    @interact(PtoValdivia=(test['Q - Pto. Valdivia - min'].min() + 0.001, test['Q - Pro. Valdivia - max'].max()))\n",
    "    def q_pto_valdivia(PtoValdivia):\n",
    "        test1 = valids_for_col(test,'Q - Pto. Valdivia - min', 'Q - Pro. Valdivia - max', PtoValdivia)\n",
    "        \n",
    "        @interact(Q_Coquera=(test1['Q - La Coquera - min'].min() + 0.001, test1['Q - La Coquera - max'].max()))\n",
    "        def q_coquera(Q_Coquera):\n",
    "            test2 = valids_for_col(test1,'Q - La Coquera - min', 'Q - La Coquera - max', Q_Coquera)\n",
    "            \n",
    "            @interact(Q_LasFlores=(test2['Q - Las Flores - min'].min() + 0.001, test2['Q - Las Flores - max'].max()))\n",
    "            def q_flores(Q_LasFlores):\n",
    "                test3 = valids_for_col(test2, 'Q - Las Flores - min', 'Q - Las Flores - max', Q_LasFlores)\n",
    "                \n",
    "                @interact(Coyongal=(test3['Q - Coyongal - min'].min() + 0.001, test3['Q - Coyongal - max'].max()))\n",
    "                def q_flores(Coyongal):\n",
    "                    test4 = valids_for_col(test3, 'Q - Coyongal - min', 'Q - Coyongal - max', Coyongal)\n",
    "                    \n",
    "                    @interact(LaRaya=(test4['Q - La Raya - min'].min() + 0.001, test4['Q - La Raya - max'].max()))\n",
    "                    def q_flores(LaRaya):\n",
    "                        test5 = valids_for_col(test4, 'Q - La Raya - min', 'Q - La Raya - max', LaRaya)\n",
    "                        print('***')\n",
    "                        print('Cluster: ') \n",
    "                        numberfun(str(test5['Cluster'].values[0]), 20)\n",
    "                        print('***')\n",
    "                        print('Caracteristicas de la clase: ')\n",
    "                        print(test5.transpose())      \n",
    "    "
   ]
  },
  {
   "cell_type": "code",
   "execution_count": null,
   "id": "e5d01752",
   "metadata": {},
   "outputs": [],
   "source": []
  }
 ],
 "metadata": {
  "kernelspec": {
   "display_name": "Python 3",
   "language": "python",
   "name": "python3"
  },
  "language_info": {
   "codemirror_mode": {
    "name": "ipython",
    "version": 3
   },
   "file_extension": ".py",
   "mimetype": "text/x-python",
   "name": "python",
   "nbconvert_exporter": "python",
   "pygments_lexer": "ipython3",
   "version": "3.8.10"
  }
 },
 "nbformat": 4,
 "nbformat_minor": 5
}
